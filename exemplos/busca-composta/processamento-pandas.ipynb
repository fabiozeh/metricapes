{
 "cells": [
  {
   "cell_type": "markdown",
   "id": "a0d32915-372a-4347-911f-f8781ad11043",
   "metadata": {},
   "source": [
    "# Manipulando resultados da busca com Pandas\n",
    "\n",
    "Este arquivo exemplifica o uso da biblioteca de análise de dados [Pandas](https://pandas.pydata.org/) para o estudo de metadados obtidos com a ferramenta metricapes.\n",
    "\n",
    "## Carregamento"
   ]
  },
  {
   "cell_type": "code",
   "execution_count": null,
   "id": "ec0a50d4-830e-4bb6-81fa-28ddedb6643c",
   "metadata": {},
   "outputs": [],
   "source": [
    "import pandas\n",
    "\n",
    "df = pandas.read_csv('susten.tsv', delimiter='\\t', encoding='utf-8')\n",
    "\n",
    "print(f\"Total de trabalhos carregados: {len(df)}.\")\n",
    "df.head()"
   ]
  },
  {
   "cell_type": "markdown",
   "id": "7d53314e-a06b-40de-bc3a-4740b88d8e46",
   "metadata": {},
   "source": [
    "## Conversão em formato BibTeX\n",
    "\n",
    "O código abaixo gera um arquivo de bibliografia no formato [BibTeX](https://www.bibtex.org/). Embora o formato preveja a inclusão de teses e dissertações, aqui as entradas são formatadas como artigos (`@article`) para compatibilidade com a ferramenta de análise bibliométrica [Bibliometrix](https://bibliometrix.org/)."
   ]
  },
  {
   "cell_type": "code",
   "execution_count": null,
   "id": "459f3ffd-10ff-4a6a-96b4-42671cc7c50e",
   "metadata": {},
   "outputs": [],
   "source": [
    "teses = df.to_dict('records')\n",
    "\n",
    "def bib_article(tese):\n",
    "    aut_fmt = tese['autor'].rsplit(' ', 1)[1] + \", \" + tese['autor'].rsplit(' ', 1)[0]\n",
    "    aut_fmt += ' and ' + tese['orientacao'].rsplit(' ', 1)[1] + ', ' + tese['orientacao'].rsplit(' ', 1)[0] if type(tese['orientacao']) is str else ''\n",
    "    bib = (f\"@article{{ CAPES:{tese['id']},\\n\"\n",
    "           f\"Author = {{{aut_fmt}}},\\n\"\n",
    "           f\"Title = {{{tese['titulo']}}},\\n\"\n",
    "           \"Journal = {},\\n\"\n",
    "           f\"Year = {{{tese['dataDefesa'][:4]}}},\\n\"\n",
    "           f\"Publisher = {{{tese['instituicao']}}},\\n\"\n",
    "           \"Type = {Article},\\n\"\n",
    "           \"Language = {Portuguese},\\n\"\n",
    "           f\"Keywords = {{{tese['palavrasChave'].replace(';', '; ') if type(tese['palavrasChave']) is str else ''}}},\\n\"\n",
    "           f\"Research-Areas = {{{tese['areaConcentracao']}}},\\n\"\n",
    "           f\"Affiliation = {{{tese['instituicao']}}},\\n\"\n",
    "           f\"Unique-ID = {{CAPES:{tese['id']}}},\\n\"\n",
    "           \"}\\n\\n\")\n",
    "    return bib\n",
    "\n",
    "bibrecords = [bib_article(tese) for tese in teses]\n",
    "\n",
    "with open('todos.bib', 'w', encoding='utf-8') as f:\n",
    "    for r in bibrecords:\n",
    "        f.write(r)"
   ]
  },
  {
   "cell_type": "markdown",
   "id": "70803f73-12a6-48c7-9f30-b10bf1c6e4ca",
   "metadata": {},
   "source": [
    "# Principais Programas\n",
    "\n",
    "Os 10 (nomes de) programas de pós-graduação mais frequentes no conjunto de dados: "
   ]
  },
  {
   "cell_type": "code",
   "execution_count": null,
   "id": "7ac62f07-138f-4599-937c-af58c6fcb24b",
   "metadata": {},
   "outputs": [],
   "source": [
    "\n",
    "df[['nomePrograma', 'id']].groupby(by='nomePrograma').count().nlargest(n=10, columns=['id'])"
   ]
  },
  {
   "cell_type": "markdown",
   "id": "06ee8098-584a-445b-a84f-9fe4e30c6129",
   "metadata": {},
   "source": [
    "## Verificação de consistência\n",
    "\n",
    "Alguns campos como `palavrasChave`, `resumo` e `orientacao` são obtidos por meio do link existente na base da CAPES e presente no campo `link`. Abaixo verificamos se há trabalhos que possuem links mas nos quais não foram carregadas as palavras chave, e exibimos os links para verificação."
   ]
  },
  {
   "cell_type": "code",
   "execution_count": null,
   "id": "489669ef-40bb-45d4-90be-1310ecff7626",
   "metadata": {},
   "outputs": [],
   "source": [
    "df.link.loc[~df['link'].str.match('undefined') & df['palavrasChave'].isna()].tolist()"
   ]
  },
  {
   "cell_type": "markdown",
   "id": "e6292381-bd45-4088-b8e8-d0f86c4dc5d5",
   "metadata": {},
   "source": [
    "## Salvar alterações\n",
    "\n",
    "Caso seja desejável salvar modificações nos arquivos TSV, o código abaixo exemplifica como fazê-lo de modo compatível com o formato utilizado."
   ]
  },
  {
   "cell_type": "code",
   "execution_count": null,
   "id": "b61105b6-9a96-4caa-b753-723985f78c4f",
   "metadata": {},
   "outputs": [],
   "source": [
    "df.to_csv('susten_copia.tsv', sep='\\t', encoding='utf-8', index=False)"
   ]
  }
 ],
 "metadata": {
  "kernelspec": {
   "display_name": "Python 3 (ipykernel)",
   "language": "python",
   "name": "python3"
  },
  "language_info": {
   "codemirror_mode": {
    "name": "ipython",
    "version": 3
   },
   "file_extension": ".py",
   "mimetype": "text/x-python",
   "name": "python",
   "nbconvert_exporter": "python",
   "pygments_lexer": "ipython3",
   "version": "3.11.2"
  }
 },
 "nbformat": 4,
 "nbformat_minor": 5
}
